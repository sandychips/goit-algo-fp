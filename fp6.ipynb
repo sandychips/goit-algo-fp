{
  "nbformat": 4,
  "nbformat_minor": 0,
  "metadata": {
    "colab": {
      "provenance": []
    },
    "kernelspec": {
      "name": "python3",
      "display_name": "Python 3"
    },
    "language_info": {
      "name": "python"
    }
  },
  "cells": [
    {
      "cell_type": "code",
      "source": [
        "def greedy_algorithm(items, budget):\n",
        "    # Сортуємо страви за співвідношенням калорій до вартості у спадаючому порядку\n",
        "    sorted_items = sorted(items.items(), key=lambda x: x[1]['calories'] / x[1]['cost'], reverse=True)\n",
        "\n",
        "    total_calories = 0\n",
        "    total_cost = 0\n",
        "    selected_items = []\n",
        "\n",
        "    for item, values in sorted_items:\n",
        "        if total_cost + values['cost'] <= budget:\n",
        "            total_calories += values['calories']\n",
        "            total_cost += values['cost']\n",
        "            selected_items.append(item)\n",
        "\n",
        "    return total_calories, selected_items\n",
        "\n",
        "def dynamic_programming(items, budget):\n",
        "    # Ініціалізуємо матрицю для зберігання максимальної кількості калорій для кожного бюджету\n",
        "    dp = [[0] * (budget + 1) for _ in range(len(items) + 1)]\n",
        "\n",
        "    # Заповнюємо матрицю за допомогою динамічного програмування\n",
        "    for i, (item, values) in enumerate(items.items(), start=1):\n",
        "        for j in range(1, budget + 1):\n",
        "            if values['cost'] <= j:\n",
        "                dp[i][j] = max(dp[i - 1][j], dp[i - 1][j - values['cost']] + values['calories'])\n",
        "            else:\n",
        "                dp[i][j] = dp[i - 1][j]\n",
        "\n",
        "    # Знаходимо вибраний набір страв\n",
        "    selected_items = []\n",
        "    j = budget\n",
        "    for i in range(len(items), 0, -1):\n",
        "        if dp[i][j] != dp[i - 1][j]:\n",
        "            selected_items.append(list(items.keys())[i - 1])\n",
        "            j -= items[selected_items[-1]]['cost']\n",
        "\n",
        "    return dp[-1][-1], selected_items\n",
        "\n",
        "# Задані дані про їжу\n",
        "items = {\n",
        "    \"pizza\": {\"cost\": 50, \"calories\": 300},\n",
        "    \"hamburger\": {\"cost\": 40, \"calories\": 250},\n",
        "    \"hot-dog\": {\"cost\": 30, \"calories\": 200},\n",
        "    \"pepsi\": {\"cost\": 10, \"calories\": 100},\n",
        "    \"cola\": {\"cost\": 15, \"calories\": 220},\n",
        "    \"potato\": {\"cost\": 25, \"calories\": 350}\n",
        "}\n",
        "\n",
        "# Заданий бюджет\n",
        "budget = 100\n",
        "\n",
        "# Викликаємо функції для обчислення результатів\n",
        "greedy_calories, greedy_selected_items = greedy_algorithm(items, budget)\n",
        "dynamic_calories, dynamic_selected_items = dynamic_programming(items, budget)\n",
        "\n",
        "# Виводимо результати\n",
        "print(\"Жадібний алгоритм:\")\n",
        "print(\"Калорійність:\", greedy_calories)\n",
        "print(\"Вибрані страви:\", greedy_selected_items)\n",
        "print()\n",
        "print(\"Динамічне програмування:\")\n",
        "print(\"Калорійність:\", dynamic_calories)\n",
        "print(\"Вибрані страви:\", dynamic_selected_items)\n"
      ],
      "metadata": {
        "colab": {
          "base_uri": "https://localhost:8080/"
        },
        "id": "A5uCADh1aIDP",
        "outputId": "2818818a-4af7-4ebf-c10c-cc3565fa80f9"
      },
      "execution_count": 4,
      "outputs": [
        {
          "output_type": "stream",
          "name": "stdout",
          "text": [
            "Жадібний алгоритм:\n",
            "Калорійність: 870\n",
            "Вибрані страви: ['cola', 'potato', 'pepsi', 'hot-dog']\n",
            "\n",
            "Динамічне програмування:\n",
            "Калорійність: 970\n",
            "Вибрані страви: ['potato', 'cola', 'pepsi', 'pizza']\n"
          ]
        }
      ]
    }
  ]
}