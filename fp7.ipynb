{
  "nbformat": 4,
  "nbformat_minor": 0,
  "metadata": {
    "colab": {
      "provenance": []
    },
    "kernelspec": {
      "name": "python3",
      "display_name": "Python 3"
    },
    "language_info": {
      "name": "python"
    }
  },
  "cells": [
    {
      "cell_type": "code",
      "execution_count": null,
      "metadata": {
        "id": "8bgYCtlVlW0Q"
      },
      "outputs": [],
      "source": [
        "import random\n",
        "import matplotlib.pyplot as plt\n",
        "\n",
        "def monte_carlo_simulation(num_trials):\n",
        "    results = {i: 0 for i in range(2, 13)}  # Ініціалізуємо словник для підрахунку результатів\n",
        "\n",
        "    for _ in range(num_trials):\n",
        "        dice1 = random.randint(1, 6)  # Кидаємо перший кубик\n",
        "        dice2 = random.randint(1, 6)  # Кидаємо другий кубик\n",
        "        total = dice1 + dice2  # Обчислюємо суму чисел\n",
        "\n",
        "        results[total] += 1  # Оновлюємо лічильник для відповідної суми\n",
        "\n",
        "    probabilities = {key: value / num_trials * 100 for key, value in results.items()}  # Обчислюємо ймовірності у відсотках\n",
        "\n",
        "    return probabilities\n",
        "\n",
        "def print_results(probabilities):\n",
        "    print(\"Сума\\tІмовірність\")\n",
        "    for total, probability in probabilities.items():\n",
        "        print(f\"{total}\\t{probability:.2f}% ({probabilities[total] / 100:.2f})\")\n",
        "\n",
        "def plot_results(probabilities):\n",
        "    sums = list(probabilities.keys())\n",
        "    probabilities_list = [probabilities[sum_] for sum_ in sums]\n",
        "    analytical_probabilities = [2.78, 5.56, 8.33, 11.11, 13.89, 16.67, 13.89, 11.11, 8.33, 5.56, 2.78]\n",
        "\n",
        "    plt.plot(sums, probabilities_list, label=\"Monte Carlo Simulation\")\n",
        "    plt.plot(sums, analytical_probabilities, label=\"Analytical Probabilities\", linestyle=\"--\")\n",
        "\n",
        "    plt.xlabel(\"Сума\")\n",
        "    plt.ylabel(\"Імовірність\")\n",
        "    plt.title(\"Співвідношення ймовірностей\")\n",
        "    plt.legend()\n",
        "    plt.grid(True)\n",
        "    plt.show()\n",
        "\n",
        "# Виконуємо симуляцію з великою кількістю кидків\n",
        "num_trials = 1000000\n",
        "probabilities = monte_carlo_simulation(num_trials)\n",
        "\n",
        "# Виводимо результати\n",
        "print_results(probabilities)\n",
        "\n",
        "# Виводимо графік\n",
        "plot_results(probabilities)\n"
      ]
    }
  ]
}